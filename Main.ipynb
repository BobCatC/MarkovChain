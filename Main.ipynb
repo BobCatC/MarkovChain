{
 "cells": [
  {
   "cell_type": "code",
   "execution_count": 1,
   "metadata": {},
   "outputs": [],
   "source": [
    "%load_ext autoreload\n",
    "%autoreload 2"
   ]
  },
  {
   "cell_type": "code",
   "execution_count": 2,
   "metadata": {},
   "outputs": [],
   "source": [
    "import numpy as np\n",
    "import numpy.linalg as la\n",
    "import matplotlib.pyplot as plt\n",
    "from markov import simulate_model, solve_model\n",
    "\n",
    "%matplotlib inline"
   ]
  },
  {
   "cell_type": "code",
   "execution_count": 3,
   "metadata": {},
   "outputs": [],
   "source": [
    "def validate_array(a) -> bool:\n",
    "    sum_vec = np.sum(a, axis=1)\n",
    "    ones_vec = np.full(a.shape[0], 1)\n",
    "    return np.isclose(sum_vec, ones_vec).all()"
   ]
  },
  {
   "cell_type": "code",
   "execution_count": 4,
   "metadata": {},
   "outputs": [
    {
     "data": {
      "text/plain": [
       "(8, 8)"
      ]
     },
     "execution_count": 4,
     "metadata": {},
     "output_type": "execute_result"
    }
   ],
   "source": [
    "matrix = np.array([\n",
    "    [0.0, 0.2, 0.2, 0.0, 0.3, 0.1, 0.2, 0.0],\n",
    "    [0.0, 0.1, 0.0, 0.2, 0.2, 0.5, 0.0, 0.0],\n",
    "    [0.4, 0.1, 0.1, 0.0, 0.0, 0.3, 0.0, 0.1],\n",
    "    [0.8, 0.0, 0.0, 0.2, 0.0, 0.0, 0.0, 0.0],\n",
    "    [0.6, 0.0, 0.0, 0.0, 0.4, 0.0, 0.0, 0.0],\n",
    "    [1.0, 0.0, 0.0, 0.0, 0.0, 0.0, 0.0, 0.0],\n",
    "    [0.5, 0.0, 0.0, 0.0, 0.0, 0.0, 0.5, 0.0],\n",
    "    [0.0, 0.0, 0.0, 0.5, 0.2, 0.0, 0.0, 0.3],\n",
    "])\n",
    "\n",
    "# Check valid probabilities sum\n",
    "assert validate_array(matrix)\n",
    "\n",
    "matrix.shape"
   ]
  },
  {
   "cell_type": "code",
   "execution_count": 5,
   "metadata": {},
   "outputs": [],
   "source": [
    "initial_states_count = 10\n",
    "\n",
    "rnd = np.random.RandomState(42)\n",
    "initial_states = np.array([rnd.rand(8) for i in range(0, initial_states_count)])\n",
    "\n",
    "for state in initial_states:\n",
    "    state /= state.sum()\n",
    "\n",
    "assert validate_array(initial_states)"
   ]
  },
  {
   "cell_type": "code",
   "execution_count": 6,
   "metadata": {},
   "outputs": [],
   "source": [
    "def run_model_simulation(matrix, initial_state) -> np.ndarray:\n",
    "    final_state, history = simulate_model(matrix=matrix, initial_state=initial_state)\n",
    "    iterations_count = len(history)\n",
    "    \n",
    "    plt.title(\"Stddev history\")\n",
    "    plt.ylabel(\"Stddev\")\n",
    "    plt.xlabel(\"Step (time)\")\n",
    "    \n",
    "    x = range(1, iterations_count + 1)\n",
    "    y = history\n",
    "    plt.plot(x, y)\n",
    "    \n",
    "    return final_state"
   ]
  },
  {
   "cell_type": "code",
   "execution_count": 7,
   "metadata": {},
   "outputs": [
    {
     "data": {
      "image/png": "[encoded data removed]",
      "text/plain": [
       "<Figure size 432x288 with 1 Axes>"
      ]
     },
     "metadata": {
      "needs_background": "light"
     },
     "output_type": "display_data"
    }
   ],
   "source": [
    "final_states = []\n",
    "for state in initial_states:\n",
    "    final_state = run_model_simulation(matrix, state)\n",
    "    final_states.append(final_state)"
   ]
  },
  {
   "cell_type": "code",
   "execution_count": 8,
   "metadata": {},
   "outputs": [
    {
     "name": "stdout",
     "output_type": "stream",
     "text": [
      "Stddev between final vectors: 3.753940877586468e-07\n",
      "Stddev between final vectors: 2.593273650321345e-07\n",
      "Stddev between final vectors: 5.109448439889294e-07\n",
      "Stddev between final vectors: 3.8798266376468073e-07\n",
      "Stddev between final vectors: 3.03929210507275e-07\n",
      "Stddev between final vectors: 1.0278293720977545e-07\n",
      "Stddev between final vectors: 1.0989319947354325e-06\n",
      "Stddev between final vectors: 7.940508759229133e-07\n",
      "Stddev between final vectors: 3.1984572338611546e-07\n",
      "Stddev between final vectors: 4.929404838649754e-07\n",
      "Stddev between final vectors: 6.842473091484521e-07\n",
      "Stddev between final vectors: 6.118150688925053e-07\n",
      "Stddev between final vectors: 1.8519267527672423e-07\n",
      "Stddev between final vectors: 3.0196583163286545e-07\n",
      "Stddev between final vectors: 1.1332489700141255e-06\n",
      "Stddev between final vectors: 8.499057200895839e-07\n",
      "Stddev between final vectors: 5.856151670259465e-07\n",
      "Stddev between final vectors: 2.6014020300633707e-07\n",
      "Stddev between final vectors: 1.3664278721495532e-07\n",
      "Stddev between final vectors: 3.941814151423146e-07\n",
      "Stddev between final vectors: 2.7854769593646683e-07\n",
      "Stddev between final vectors: 8.746721073658166e-07\n",
      "Stddev between final vectors: 5.910151308499742e-07\n",
      "Stddev between final vectors: 9.64075319202505e-08\n",
      "Stddev between final vectors: 1.3820475532370558e-07\n",
      "Stddev between final vectors: 5.647015441709199e-07\n",
      "Stddev between final vectors: 5.093177997555521e-07\n",
      "Stddev between final vectors: 6.352386730347299e-07\n",
      "Stddev between final vectors: 3.8173016713108914e-07\n",
      "Stddev between final vectors: 2.40108541567388e-07\n",
      "Stddev between final vectors: 4.994602302371562e-07\n",
      "Stddev between final vectors: 4.0385466697943096e-07\n",
      "Stddev between final vectors: 7.717098417441378e-07\n",
      "Stddev between final vectors: 5.032745717582884e-07\n",
      "Stddev between final vectors: 1.0358844755965559e-07\n",
      "Stddev between final vectors: 2.0373155984878398e-07\n",
      "Stddev between final vectors: 1.0130542524901853e-06\n",
      "Stddev between final vectors: 7.109664706576189e-07\n",
      "Stddev between final vectors: 4.890197918985417e-07\n",
      "Stddev between final vectors: 1.0594432158520467e-06\n",
      "Stddev between final vectors: 7.499609516968981e-07\n",
      "Stddev between final vectors: 3.585620494247112e-07\n",
      "Stddev between final vectors: 3.2240810885417265e-07\n",
      "Stddev between final vectors: 8.745439162411014e-07\n",
      "Stddev between final vectors: 6.050740232145315e-07\n"
     ]
    }
   ],
   "source": [
    "from itertools import combinations\n",
    "\n",
    "for pair in combinations(final_states, 2):\n",
    "    stddev = la.norm(pair[0] - pair[1])\n",
    "    print(\"Stddev between final vectors: {}\".format(stddev))"
   ]
  },
  {
   "cell_type": "code",
   "execution_count": 9,
   "metadata": {},
   "outputs": [
    {
     "data": {
      "text/plain": [
       "(8,)"
      ]
     },
     "execution_count": 9,
     "metadata": {},
     "output_type": "execute_result"
    }
   ],
   "source": [
    "final_state = solve_model(matrix=matrix)\n",
    "final_state.shape"
   ]
  },
  {
   "cell_type": "code",
   "execution_count": 10,
   "metadata": {},
   "outputs": [
    {
     "name": "stdout",
     "output_type": "stream",
     "text": [
      "Stddev between final vectors: 5.313931242462366e-07\n"
     ]
    }
   ],
   "source": [
    "norm = la.norm(final_state - final_states[0])\n",
    "print(\"Stddev between final vectors: {}\".format(norm))"
   ]
  },
  {
   "cell_type": "code",
   "execution_count": null,
   "metadata": {},
   "outputs": [],
   "source": []
  }
 ],
 "metadata": {
  "kernelspec": {
   "display_name": "Python 3",
   "language": "python",
   "name": "python3"
  },
  "language_info": {
   "codemirror_mode": {
    "name": "ipython",
    "version": 3
   },
   "file_extension": ".py",
   "mimetype": "text/x-python",
   "name": "python",
   "nbconvert_exporter": "python",
   "pygments_lexer": "ipython3",
   "version": "3.7.7"
  }
 },
 "nbformat": 4,
 "nbformat_minor": 1
}
